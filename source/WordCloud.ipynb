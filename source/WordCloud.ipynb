{
 "cells": [
  {
   "cell_type": "code",
   "execution_count": 1,
   "metadata": {},
   "outputs": [],
   "source": [
    "#Packages to be imported to complete data cleanup for this visual \n",
    "\n",
    "import pandas as pd\n",
    "import numpy as np\n",
    "from PIL import Image\n",
    "import matplotlib.pyplot as plt\n",
    "from wordcloud import WordCloud, STOPWORDS, ImageColorGenerator"
   ]
  },
  {
   "cell_type": "code",
   "execution_count": 2,
   "metadata": {},
   "outputs": [],
   "source": [
    "#Loaded cleaned file from sentiment analysis (tweets) and raw appended dataset (df)\n",
    "\n",
    "tweets=pd.read_csv('Tweet_Text_Sentiment_data_FIXED 921_1.csv', engine='python')\n",
    "df=pd.read_csv('TweetData.csv', engine='python')\n"
   ]
  },
  {
   "cell_type": "code",
   "execution_count": 3,
   "metadata": {},
   "outputs": [
    {
     "data": {
      "text/html": [
       "<div>\n",
       "<style scoped>\n",
       "    .dataframe tbody tr th:only-of-type {\n",
       "        vertical-align: middle;\n",
       "    }\n",
       "\n",
       "    .dataframe tbody tr th {\n",
       "        vertical-align: top;\n",
       "    }\n",
       "\n",
       "    .dataframe thead th {\n",
       "        text-align: right;\n",
       "    }\n",
       "</style>\n",
       "<table border=\"1\" class=\"dataframe\">\n",
       "  <thead>\n",
       "    <tr style=\"text-align: right;\">\n",
       "      <th></th>\n",
       "      <th>text</th>\n",
       "    </tr>\n",
       "  </thead>\n",
       "  <tbody>\n",
       "    <tr>\n",
       "      <th>0</th>\n",
       "      <td>@ClayTravis FLU? This seems fishy to me these ...</td>\n",
       "    </tr>\n",
       "    <tr>\n",
       "      <th>1</th>\n",
       "      <td>@netflix omg!!! Ozark ending was to die for!!!...</td>\n",
       "    </tr>\n",
       "    <tr>\n",
       "      <th>2</th>\n",
       "      <td>Quem apoia a quarentena é quem tem a conta ban...</td>\n",
       "    </tr>\n",
       "  </tbody>\n",
       "</table>\n",
       "</div>"
      ],
      "text/plain": [
       "                                                text\n",
       "0  @ClayTravis FLU? This seems fishy to me these ...\n",
       "1  @netflix omg!!! Ozark ending was to die for!!!...\n",
       "2  Quem apoia a quarentena é quem tem a conta ban..."
      ]
     },
     "execution_count": 3,
     "metadata": {},
     "output_type": "execute_result"
    }
   ],
   "source": [
    "#Uncleaned Dataset preview\n",
    "\n",
    "df1=df[['text']]\n",
    "df1.head(3)"
   ]
  },
  {
   "cell_type": "code",
   "execution_count": 4,
   "metadata": {},
   "outputs": [
    {
     "data": {
      "text/html": [
       "<div>\n",
       "<style scoped>\n",
       "    .dataframe tbody tr th:only-of-type {\n",
       "        vertical-align: middle;\n",
       "    }\n",
       "\n",
       "    .dataframe tbody tr th {\n",
       "        vertical-align: top;\n",
       "    }\n",
       "\n",
       "    .dataframe thead th {\n",
       "        text-align: right;\n",
       "    }\n",
       "</style>\n",
       "<table border=\"1\" class=\"dataframe\">\n",
       "  <thead>\n",
       "    <tr style=\"text-align: right;\">\n",
       "      <th></th>\n",
       "      <th>text</th>\n",
       "    </tr>\n",
       "  </thead>\n",
       "  <tbody>\n",
       "    <tr>\n",
       "      <th>0</th>\n",
       "      <td>flu seems fishy covid19 numbers dont add</td>\n",
       "    </tr>\n",
       "    <tr>\n",
       "      <th>1</th>\n",
       "      <td>omg ozark ending die thanks distraction covid1...</td>\n",
       "    </tr>\n",
       "    <tr>\n",
       "      <th>2</th>\n",
       "      <td>dont think gd leadership across states see gov...</td>\n",
       "    </tr>\n",
       "  </tbody>\n",
       "</table>\n",
       "</div>"
      ],
      "text/plain": [
       "                                                text\n",
       "0           flu seems fishy covid19 numbers dont add\n",
       "1  omg ozark ending die thanks distraction covid1...\n",
       "2  dont think gd leadership across states see gov..."
      ]
     },
     "execution_count": 4,
     "metadata": {},
     "output_type": "execute_result"
    }
   ],
   "source": [
    "#Cleaned Dataset (used in this visual)\n",
    "\n",
    "df2=tweets[['text']]\n",
    "df2.head(3)"
   ]
  },
  {
   "cell_type": "code",
   "execution_count": 5,
   "metadata": {},
   "outputs": [],
   "source": [
    "#Split text in data to individual words and aggregated a count of each word to determine the most popular used words\n",
    "\n",
    "s=(df2.text.str.split(expand=True).stack())\n",
    "s.index = s.index.droplevel(-1)\n",
    "df3=s.to_frame().reset_index()[[0]]\n",
    "df3.rename(columns={0:'words'}, inplace=True)\n",
    "df3['count']=1\n",
    "grouped=df3.groupby(['words']).agg({'count':'sum'}).sort_values(['count'], ascending=False).reset_index()\n",
    "grouped=grouped[grouped.words != 'amp'] "
   ]
  },
  {
   "cell_type": "code",
   "execution_count": 6,
   "metadata": {},
   "outputs": [
    {
     "data": {
      "text/plain": [
       "<Figure size 1000x1000 with 1 Axes>"
      ]
     },
     "metadata": {},
     "output_type": "display_data"
    }
   ],
   "source": [
    "top100=grouped.head(10000)\n",
    "top100=top100['words'].astype(str).tolist()\n",
    "\n",
    "mask = np.array(Image.open(\"usa.png\"))\n",
    "unique_string=(\" \").join(top100)\n",
    "wordcloud_usa = WordCloud(background_color=\"white\", mode=\"RGBA\", max_words=1000, mask=mask).generate(unique_string)\n",
    "\n",
    "# create coloring from image\n",
    "image_colors = ImageColorGenerator(mask)\n",
    "plt.figure(figsize=[10,10])\n",
    "plt.imshow(wordcloud_usa.recolor(color_func=image_colors), interpolation=\"bilinear\")\n",
    "plt.axis(\"off\")\n",
    "\n",
    "# store to file\n",
    "#plt.savefig(\"img/us_wine.png\", format=\"png\")\n",
    "\n",
    "plt.show()"
   ]
  },
  {
   "cell_type": "code",
   "execution_count": 11,
   "metadata": {},
   "outputs": [
    {
     "data": {
      "image/png": "[encoded data removed]",
      "text/plain": [
       "<Figure size 1080x576 with 1 Axes>"
      ]
     },
     "metadata": {
      "needs_background": "light"
     },
     "output_type": "display_data"
    }
   ],
   "source": [
    "#Used top 21 words in this for the \"top 20\" as #covid19 was likely present in most all tweets and isnt a fair representation\n",
    "\n",
    "top20=grouped.head(21)\n",
    "top20=top20['words'].astype(str).tolist()\n",
    "\n",
    "import matplotlib.pyplot as plt\n",
    "from wordcloud import WordCloud, STOPWORDS\n",
    "\n",
    "#convert list to string and generate\n",
    "stopwords = {word for word in STOPWORDS if word not in {'get', 'like', 'its'}}\n",
    "unique_string=(\" \").join(top20)\n",
    "wordcloud = WordCloud(width = 7000, height = 1500, background_color='white', stopwords=stopwords, max_words=20).generate(unique_string)\n",
    "plt.figure(figsize=(15,8))\n",
    "plt.imshow(wordcloud)\n",
    "plt.axis(\"off\")\n",
    "plt.savefig(\"your_file_name\"+\".png\", bbox_inches='tight')\n",
    "plt.show()\n",
    "plt.close()"
   ]
  },
  {
   "cell_type": "code",
   "execution_count": 9,
   "metadata": {},
   "outputs": [
    {
     "data": {
      "text/plain": [
       "['covid19',\n",
       " 'coronavirus',\n",
       " 'people',\n",
       " 'us',\n",
       " 'new',\n",
       " 'pandemic',\n",
       " 'get',\n",
       " 'like',\n",
       " 'time',\n",
       " 'quarantine',\n",
       " 'im',\n",
       " 'one',\n",
       " 'home',\n",
       " 'stayhome',\n",
       " 'need',\n",
       " 'today',\n",
       " 'day',\n",
       " 'dont',\n",
       " 'help',\n",
       " 'trump',\n",
       " 'its']"
      ]
     },
     "execution_count": 9,
     "metadata": {},
     "output_type": "execute_result"
    }
   ],
   "source": [
    "top20"
   ]
  },
  {
   "cell_type": "code",
   "execution_count": null,
   "metadata": {},
   "outputs": [],
   "source": [
    "#https://www.datacamp.com/community/tutorials/wordcloud-python"
   ]
  }
 ],
 "metadata": {
  "kernelspec": {
   "display_name": "Python 3",
   "language": "python",
   "name": "python3"
  },
  "language_info": {
   "codemirror_mode": {
    "name": "ipython",
    "version": 3
   },
   "file_extension": ".py",
   "mimetype": "text/x-python",
   "name": "python",
   "nbconvert_exporter": "python",
   "pygments_lexer": "ipython3",
   "version": "3.7.3"
  }
 },
 "nbformat": 4,
 "nbformat_minor": 2
}
